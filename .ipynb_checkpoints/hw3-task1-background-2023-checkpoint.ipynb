{
 "cells": [
  {
   "cell_type": "markdown",
   "id": "8JmseyWA_9FB",
   "metadata": {
    "id": "8JmseyWA_9FB"
   },
   "source": [
    "#Linear Algebra for Data Science: HW3, task 1 (2.5 pts)\n",
    "#Background extraction via SVD\n",
    "#<div align=\"right\"> &copy; Markiian Novosad & Rostyslav Hryniv, 2023 </div>\n",
    "\n",
    "## Completed by:   \n",
    "*   First team member\n",
    "*   Second team member\n",
    "\n",
    "The aim of this task is to use the SVD-based $k$-rank approximation of a given matrix to extract the background of a video sequence of frames"
   ]
  },
  {
   "cell_type": "code",
   "execution_count": 1,
   "id": "Lta7rnTbVSfM",
   "metadata": {
    "id": "Lta7rnTbVSfM"
   },
   "outputs": [
    {
     "ename": "ModuleNotFoundError",
     "evalue": "No module named 'cv2'",
     "output_type": "error",
     "traceback": [
      "\u001b[0;31m---------------------------------------------------------------------------\u001b[0m",
      "\u001b[0;31mModuleNotFoundError\u001b[0m                       Traceback (most recent call last)",
      "Cell \u001b[0;32mIn[1], line 2\u001b[0m\n\u001b[1;32m      1\u001b[0m \u001b[38;5;28;01mimport\u001b[39;00m \u001b[38;5;21;01mnumpy\u001b[39;00m \u001b[38;5;28;01mas\u001b[39;00m \u001b[38;5;21;01mnp\u001b[39;00m\n\u001b[0;32m----> 2\u001b[0m \u001b[38;5;28;01mimport\u001b[39;00m \u001b[38;5;21;01mcv2\u001b[39;00m\n\u001b[1;32m      3\u001b[0m \u001b[38;5;28;01mimport\u001b[39;00m \u001b[38;5;21;01mgdown\u001b[39;00m\n\u001b[1;32m      4\u001b[0m \u001b[38;5;28;01mfrom\u001b[39;00m \u001b[38;5;21;01mPIL\u001b[39;00m \u001b[38;5;28;01mimport\u001b[39;00m Image\n",
      "\u001b[0;31mModuleNotFoundError\u001b[0m: No module named 'cv2'"
     ]
    }
   ],
   "source": [
    "import numpy as np\n",
    "import cv2\n",
    "import gdown\n",
    "from PIL import Image\n",
    "from IPython.display import HTML\n",
    "from base64 import b64encode\n",
    "\n",
    "gdown.download(\"https://drive.google.com/file/d/1HpNTozAlQN5EREPs1IL2JmrrNEfrWckA/view?usp=sharing\", \"video.mp4\", quiet=False)\n",
    "\n",
    "def show_video(video_path, video_width = 600):\n",
    "\n",
    "  mp4 = open(video_path,'rb').read()\n",
    "  print(len(mp4))\n",
    "  data_url = \"data:video/mp4;base64,\" + b64encode(mp4).decode()\n",
    "  return HTML(\"\"\"\n",
    "  <video width=400 controls>\n",
    "        <source src=\"%s\" type=\"video/mp4\">\n",
    "  </video>\n",
    "  \"\"\" % data_url)"
   ]
  },
  {
   "cell_type": "markdown",
   "id": "lmlqyQdiBOrI",
   "metadata": {
    "id": "lmlqyQdiBOrI"
   },
   "source": [
    "#1. Preparation (0.5 pts)"
   ]
  },
  {
   "cell_type": "markdown",
   "id": "mVcDlwuBBXQr",
   "metadata": {
    "id": "mVcDlwuBBXQr"
   },
   "source": [
    "-  take a short video with a fixed background and relatively small moving part\n",
    "- extract $N$ equally spaced frames and convert them to greyscale images\n",
    "- reshape each image into a column vector of size $M\\times 1$, with $M:=w\\times h$\n",
    "- form a matrix $A$ of $N$ columns"
   ]
  },
  {
   "cell_type": "code",
   "execution_count": null,
   "id": "KHOjhz7OVQMT",
   "metadata": {
    "id": "KHOjhz7OVQMT"
   },
   "outputs": [],
   "source": [
    "video_file = \"./video.mp4\"\n",
    "\n",
    "# Load the video using OpenCV\n",
    "cap = cv2.VideoCapture(video_file)\n",
    "\n",
    "# Get the number of frames and height, width of each frame\n",
    "num_frames = int(cap.get(cv2.CAP_PROP_FRAME_COUNT))\n",
    "frame_height = int(cap.get(cv2.CAP_PROP_FRAME_HEIGHT))\n",
    "frame_width = int(cap.get(cv2.CAP_PROP_FRAME_WIDTH))\n",
    "\n",
    "N = ... # select desired number of frames\n",
    "frame_indices = ... # create equaly distributed frame indices over whole video\n",
    "\n",
    "# Initialize an array to store the selected frames\n",
    "frames = np.zeros((N, frame_height, frame_width), dtype=np.float32)\n",
    "\n",
    "# Loop through the selected frames and store them\n",
    "for i, index in enumerate(frame_indices):\n",
    "    cap.set(cv2.CAP_PROP_POS_FRAMES, index)\n",
    "    ret, frame = cap.read()\n",
    "    frames[i] = ... # convert to GrayScale using cv2 and normalize uint8 to floats [0.0, 1.0]\n",
    "\n",
    "# Release the video capture\n",
    "cap.release()\n",
    "\n",
    "# Reshape each frame into a column vector\n",
    "M = frame_height * frame_width\n",
    "A = ...\n",
    "\n"
   ]
  },
  {
   "cell_type": "code",
   "execution_count": null,
   "id": "RMWC1Z15XLIk",
   "metadata": {
    "id": "RMWC1Z15XLIk"
   },
   "outputs": [],
   "source": [
    "# Visualize any frame from matrix A to make shure that everything is OK with your data\n",
    "Image.fromarray((A[...] ...).astype(np.uint8))\n"
   ]
  },
  {
   "cell_type": "markdown",
   "id": "5Hf6QA0fBbgX",
   "metadata": {
    "id": "5Hf6QA0fBbgX"
   },
   "source": [
    "#2. Background extraction (1 pt)"
   ]
  },
  {
   "cell_type": "markdown",
   "id": "6ItwgSQnBJUU",
   "metadata": {
    "id": "6ItwgSQnBJUU"
   },
   "source": [
    "We have the matrix $A$ of $N$ (no. of frames) columns and $M = w \\times h$ rows. Our aim here is to find the best rank-$1$ approximation $\\mathbf{u}\\mathbf{v}^\\top$ of $A$\n",
    "\n",
    "- recall that $\\mathbf{v}$ is the eigenvector of an $N\\times N$ matrix $A^\\top A$ corresponding to the largest eigenvalue; power method should find them very fast\n",
    "- how do we find $\\mathbf{u}$ given $\\mathbf{v}$?\n",
    "---\n",
    "**_Include your explanations here_**\n",
    "\n",
    "---\n",
    "- use $\\mathbf{u}\\mathbf{v}^\\top$ as a background\n",
    "- remove background from the frames and recombine them into a video with moving part only\n"
   ]
  },
  {
   "cell_type": "code",
   "execution_count": null,
   "id": "3V8LK2YCXXlw",
   "metadata": {
    "id": "3V8LK2YCXXlw"
   },
   "outputs": [],
   "source": [
    "A_tA = np.dot(A.T, A)\n",
    "\n",
    "# Define the number of iterations\n",
    "num_iterations = 100\n",
    "\n",
    "# Initialize a random vector v\n",
    "v = np.random.rand(A.shape[1]).astype(np.float32)\n",
    "\n",
    "# Normalize the vector v\n",
    "v = v / np.linalg.norm(v)\n",
    "\n",
    "# Loop through the iterations\n",
    "for i in range(num_iterations):\n",
    "    # Calculate Av\n",
    "    Av = np.dot(...)\n",
    "\n",
    "    # Normalize Av\n",
    "    Av = ...\n",
    "\n",
    "    # Replace v with Av\n",
    "    v = Av\n",
    "\n",
    "# Calculate the largest eigenvalue\n",
    "lambda_max = np.dot(np.dot(v, A_tA), v)\n",
    "\n",
    "# Calculate the rank-1 approximation of A\n",
    "\n",
    "uvt = ...\n",
    "\n",
    "# Remove the background from the frames\n",
    "background = uvt.reshape((A.shape[0], A.shape[1]))\n",
    "A_foregrounds = np.abs( A - background )\n",
    "foregrounds = A_foregrounds.reshape((frame_height, frame_width, N)).transpose((2,0,1)) * 255\n",
    "foregrounds = foregrounds.astype(np.uint8)\n",
    "\n",
    "fourcc = cv2.VideoWriter_fourcc(*'mp4v')\n",
    "out = cv2.VideoWriter('output.mp4', fourcc, 20, (frame_width*2, frame_height))\n",
    "for i in range(N):\n",
    "    frame = np.concatenate(...)\n",
    "    out.write( cv2.cvtColor( frame  , cv2.COLOR_GRAY2BGR) )\n",
    "out.release()"
   ]
  },
  {
   "cell_type": "code",
   "execution_count": null,
   "id": "SQEZ4v7wYSkP",
   "metadata": {
    "id": "SQEZ4v7wYSkP"
   },
   "outputs": [],
   "source": [
    "show_video(\"output.mp4\")"
   ]
  },
  {
   "cell_type": "markdown",
   "id": "COpaTco6YYx3",
   "metadata": {
    "id": "COpaTco6YYx3"
   },
   "source": [
    "In case colab doesn't show the video, download it to local storage"
   ]
  },
  {
   "cell_type": "code",
   "execution_count": null,
   "id": "_2FYCmEuYXws",
   "metadata": {
    "id": "_2FYCmEuYXws"
   },
   "outputs": [],
   "source": [
    "from google.colab import files\n",
    "files.download(\"output.mp4\")"
   ]
  },
  {
   "cell_type": "markdown",
   "id": "RzLaVft4BkUk",
   "metadata": {
    "id": "RzLaVft4BkUk"
   },
   "source": [
    "#3. Rank-$k$ approximation (0.5 pts)\n"
   ]
  },
  {
   "cell_type": "markdown",
   "id": "rMzHzMfwQKLD",
   "metadata": {
    "id": "rMzHzMfwQKLD"
   },
   "source": [
    "Here, we'll discuss the question whether taking approximation of $A$ of larger rank improves background extraction"
   ]
  },
  {
   "cell_type": "markdown",
   "id": "N5XEiwIJBqqf",
   "metadata": {
    "id": "N5XEiwIJBqqf"
   },
   "source": [
    "\n",
    "- find the best approximation $A_k$ of the matrix $A$ of rank $k$ (can use the built-in SVD function)\n",
    "- use the columns of $A_k$ as frames of the background\n",
    "- remove the background from the original frames\n",
    "- form two videos, with background and moving part\n",
    "- comment on the results for $k=2, 5, 10$"
   ]
  },
  {
   "cell_type": "code",
   "execution_count": null,
   "id": "y0dcEnSKYss2",
   "metadata": {
    "id": "y0dcEnSKYss2"
   },
   "outputs": [],
   "source": [
    "rank = ... # choose desired rank\n",
    "U,s, Vh = np.linalg.svd(A) # Hint: look up svd docs, to make it work more memory efficiently\n",
    "A_approx = ..."
   ]
  },
  {
   "cell_type": "code",
   "execution_count": null,
   "id": "AVuae-8TYiVi",
   "metadata": {
    "id": "AVuae-8TYiVi"
   },
   "outputs": [],
   "source": [
    "background = A_approx.reshape(A.shape[0], A.shape[1])\n",
    "frames_without_background = np.abs(A - background)\n",
    "foregrounds = frames_without_background.reshape((frame_height, frame_width, N)).transpose((2,0,1)) * 255\n",
    "foregrounds = foregrounds.astype(np.uint8)\n",
    "\n",
    "fourcc = cv2.VideoWriter_fourcc(*'mp4v')\n",
    "out = cv2.VideoWriter('output2.mp4', fourcc, 20, (frame_width*2, frame_height))\n",
    "for i in range(N):\n",
    "    frame = np.concatenate(...)\n",
    "    out.write( cv2.cvtColor( frame  , cv2.COLOR_GRAY2BGR) )\n",
    "out.release()"
   ]
  },
  {
   "cell_type": "markdown",
   "id": "TZTaH-R1Qi4I",
   "metadata": {
    "id": "TZTaH-R1Qi4I"
   },
   "source": [
    "#4. Conclusions (0.5 pts)\n",
    "\n",
    "- Explain why the rank-$1$ approximation of the matrix $A$ typically extracts the background from video\n",
    "- Discuss whether rank-$k$ approximation improves the process\n",
    "- Think of advantages, disadvantages, and limitations of the methods\n",
    "- You can also add some suggestions how this task can be improved in the future"
   ]
  },
  {
   "cell_type": "markdown",
   "id": "gKdj9veLTit9",
   "metadata": {
    "id": "gKdj9veLTit9"
   },
   "source": [
    "---\n",
    "**Your comments come here**\n",
    "\n",
    "---"
   ]
  }
 ],
 "metadata": {
  "colab": {
   "provenance": [],
   "toc_visible": true
  },
  "kernelspec": {
   "display_name": "Python 3 (ipykernel)",
   "language": "python",
   "name": "python3"
  },
  "language_info": {
   "codemirror_mode": {
    "name": "ipython",
    "version": 3
   },
   "file_extension": ".py",
   "mimetype": "text/x-python",
   "name": "python",
   "nbconvert_exporter": "python",
   "pygments_lexer": "ipython3",
   "version": "3.10.13"
  }
 },
 "nbformat": 4,
 "nbformat_minor": 5
}
